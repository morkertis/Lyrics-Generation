{
 "cells": [
  {
   "cell_type": "markdown",
   "metadata": {},
   "source": [
    "# Testing - Model 1\n",
    "In this notebook we are handling the test file.\n",
    "<br>This is an example run. (Requires pretrained model to run)"
   ]
  },
  {
   "cell_type": "code",
   "execution_count": 1,
   "metadata": {},
   "outputs": [
    {
     "name": "stderr",
     "output_type": "stream",
     "text": [
      "Using TensorFlow backend.\n",
      "C:\\Users\\TomerMeirman\\Anaconda3\\lib\\site-packages\\gensim\\utils.py:1197: UserWarning: detected Windows; aliasing chunkize to chunkize_serial\n",
      "  warnings.warn(\"detected Windows; aliasing chunkize to chunkize_serial\")\n"
     ]
    }
   ],
   "source": [
    "import Model1Base as mb\n",
    "import pandas as pd\n",
    "from nltk.tokenize import RegexpTokenizer\n",
    "from keras.preprocessing.text import Tokenizer"
   ]
  },
  {
   "cell_type": "code",
   "execution_count": 2,
   "metadata": {},
   "outputs": [],
   "source": [
    "import warnings\n",
    "warnings.filterwarnings('ignore')"
   ]
  },
  {
   "cell_type": "markdown",
   "metadata": {},
   "source": [
    "**Train File** - first, create a vocabulary that matches the first training file"
   ]
  },
  {
   "cell_type": "code",
   "execution_count": 3,
   "metadata": {},
   "outputs": [],
   "source": [
    "df = pd.read_csv(\"lyrics_train_set.csv\",header=None)\n",
    "df = df.fillna('')\n",
    "df[2] = df[2] + df[3] + df[4] + df[5] + df[6] \n",
    "df=df.drop([3,4,5,6],axis=1)\n",
    "df.columns=['singer','song','lyrics']"
   ]
  },
  {
   "cell_type": "code",
   "execution_count": 4,
   "metadata": {},
   "outputs": [],
   "source": [
    "df['clean_lyrics'] = df.apply(lambda row: mb.clean_text(row.lyrics),axis=1)\n",
    "df['singer_song']= df.apply(lambda row: mb.clean_singer_song(row['singer'],row['song']),axis=1)\n",
    "tokenizer = RegexpTokenizer(r'\\w+|&+')\n",
    "df[\"tokens\"] = df[\"clean_lyrics\"].apply(tokenizer.tokenize)"
   ]
  },
  {
   "cell_type": "code",
   "execution_count": 5,
   "metadata": {},
   "outputs": [],
   "source": [
    "midi_df = pd.read_pickle(\"data/melody_df.pkl\")"
   ]
  },
  {
   "cell_type": "code",
   "execution_count": 6,
   "metadata": {},
   "outputs": [],
   "source": [
    "df_concat = pd.merge(df,midi_df,how='inner', left_on='singer_song', right_on='filename')"
   ]
  },
  {
   "cell_type": "code",
   "execution_count": 7,
   "metadata": {},
   "outputs": [
    {
     "name": "stdout",
     "output_type": "stream",
     "text": [
      "176682 words total, with a vocabulary size of 7474\n",
      "Max sentence length is 1481\n"
     ]
    }
   ],
   "source": [
    "all_words = [word for tokens in df_concat[\"tokens\"] for word in tokens]\n",
    "sentence_lengths = [len(tokens) for tokens in df_concat[\"tokens\"]]\n",
    "VOCAB = sorted(list(set(all_words)))\n",
    "print(\"%s words total, with a vocabulary size of %s\" % (len(all_words), len(VOCAB)))\n",
    "print(\"Max sentence length is %s\" % max(sentence_lengths))"
   ]
  },
  {
   "cell_type": "code",
   "execution_count": 9,
   "metadata": {},
   "outputs": [],
   "source": [
    "VOCAB_SIZE = len(VOCAB)\n",
    "\n",
    "tokenizer = Tokenizer(num_words=VOCAB_SIZE)\n",
    "tokenizer.fit_on_texts(df_concat[\"clean_lyrics\"].tolist())"
   ]
  },
  {
   "cell_type": "markdown",
   "metadata": {},
   "source": [
    "## Aranging test set for testing"
   ]
  },
  {
   "cell_type": "code",
   "execution_count": 10,
   "metadata": {},
   "outputs": [],
   "source": [
    "\n",
    "test_df = pd.read_csv(\"lyrics_test_set.csv\",header=None)\n",
    "test_df = test_df.fillna('')\n",
    "test_df.columns=['singer','song','lyrics']\n",
    "test_df['clean_lyrics'] = test_df.apply(lambda row: mb.clean_text(row.lyrics),axis=1)\n",
    "test_sequences = tokenizer.texts_to_sequences(test_df[\"clean_lyrics\"].tolist())"
   ]
  },
  {
   "cell_type": "markdown",
   "metadata": {},
   "source": [
    "**Pretty Midi** - Create vector using the midi files (pretty_midi objects)"
   ]
  },
  {
   "cell_type": "code",
   "execution_count": 11,
   "metadata": {},
   "outputs": [],
   "source": [
    "import pretty_midi\n",
    "midis = []\n",
    "for row in test_df.itertuples():\n",
    "    name = (str(row[1])+\" -\"+str(row[2])).replace(' ','_') + '.mid'\n",
    "    try:\n",
    "        midis.append(pretty_midi.PrettyMIDI(\"midi_files/\"+name))\n",
    "    except:\n",
    "        midis.append(None)\n",
    "        \n",
    "\"\"\"Instead of using this function, use pickle: midis_vecotr_pickle.pkl\"\"\"\n",
    "midis_vector_list = []\n",
    "for midi in midis:\n",
    "    if midi != None:\n",
    "        midis_vector_list.append(mb.get_song_vector(midi))\n",
    "    else:\n",
    "        midis_vector_list.append(None)   "
   ]
  },
  {
   "cell_type": "code",
   "execution_count": 12,
   "metadata": {},
   "outputs": [],
   "source": [
    "input_words = [test_sequences[x][0] for x in range(0,len(test_sequences))]\n",
    "melodies = [midis_vector_list[i] for i in range(len(midis_vector_list))]"
   ]
  },
  {
   "cell_type": "markdown",
   "metadata": {},
   "source": [
    "## Loading the model"
   ]
  },
  {
   "cell_type": "code",
   "execution_count": 13,
   "metadata": {
    "scrolled": true
   },
   "outputs": [
    {
     "name": "stderr",
     "output_type": "stream",
     "text": [
      "WARNING: Logging before flag parsing goes to stderr.\n",
      "W0727 17:34:08.908857   440 deprecation_wrapper.py:119] From C:\\Users\\TomerMeirman\\Anaconda3\\lib\\site-packages\\keras\\backend\\tensorflow_backend.py:517: The name tf.placeholder is deprecated. Please use tf.compat.v1.placeholder instead.\n",
      "\n",
      "W0727 17:34:08.932829   440 deprecation_wrapper.py:119] From C:\\Users\\TomerMeirman\\Anaconda3\\lib\\site-packages\\keras\\backend\\tensorflow_backend.py:74: The name tf.get_default_graph is deprecated. Please use tf.compat.v1.get_default_graph instead.\n",
      "\n",
      "W0727 17:34:08.934789   440 deprecation_wrapper.py:119] From C:\\Users\\TomerMeirman\\Anaconda3\\lib\\site-packages\\keras\\backend\\tensorflow_backend.py:4138: The name tf.random_uniform is deprecated. Please use tf.random.uniform instead.\n",
      "\n",
      "W0727 17:34:09.362643   440 deprecation_wrapper.py:119] From C:\\Users\\TomerMeirman\\Anaconda3\\lib\\site-packages\\keras\\backend\\tensorflow_backend.py:133: The name tf.placeholder_with_default is deprecated. Please use tf.compat.v1.placeholder_with_default instead.\n",
      "\n",
      "W0727 17:34:09.369627   440 deprecation.py:506] From C:\\Users\\TomerMeirman\\Anaconda3\\lib\\site-packages\\keras\\backend\\tensorflow_backend.py:3445: calling dropout (from tensorflow.python.ops.nn_ops) with keep_prob is deprecated and will be removed in a future version.\n",
      "Instructions for updating:\n",
      "Please use `rate` instead of `keep_prob`. Rate should be set to `rate = 1 - keep_prob`.\n",
      "W0727 17:34:09.437442   440 deprecation_wrapper.py:119] From C:\\Users\\TomerMeirman\\Anaconda3\\lib\\site-packages\\keras\\backend\\tensorflow_backend.py:174: The name tf.get_default_session is deprecated. Please use tf.compat.v1.get_default_session instead.\n",
      "\n"
     ]
    }
   ],
   "source": [
    "model = mb.load_model('model_2019_07_20__2343')"
   ]
  },
  {
   "cell_type": "markdown",
   "metadata": {},
   "source": [
    "## Creating songs using our model"
   ]
  },
  {
   "cell_type": "code",
   "execution_count": 14,
   "metadata": {
    "scrolled": true
   },
   "outputs": [],
   "source": [
    "# np.random.seed(123)\n",
    "num_of_songs = 2\n",
    "\n",
    "songs = []\n",
    "for ii in range(len(input_words)):\n",
    "    song = mb.create_song(model, input_words[ii],melodies[ii],lyrics_length=50,num_of_songs=num_of_songs, random_state=5)\n",
    "    songs.append(song)"
   ]
  },
  {
   "cell_type": "markdown",
   "metadata": {},
   "source": [
    "Reverse the sequences to text - to view our newly created songs"
   ]
  },
  {
   "cell_type": "code",
   "execution_count": 20,
   "metadata": {
    "scrolled": false
   },
   "outputs": [
    {
     "data": {
      "text/plain": [
       "[[['close to you ',\n",
       "   ' i know that i cant cause i cant believe its time ',\n",
       "   ' i dont remember all i time ',\n",
       "   ' i dont know where to start ',\n",
       "   ' i want to spend this time of my life ',\n",
       "   ' what ive been and i have never been sent to'],\n",
       "  ['close to you ',\n",
       "   ' and i could be wrong for all i can do i love you ',\n",
       "   ' and i will be waiting ',\n",
       "   ' like a dream that i could do ',\n",
       "   ' and i know that i could not know ',\n",
       "   ' i dont want to be your love ',\n",
       "   ' baby']],\n",
       " [['if you want to know if it was you and i ',\n",
       "   ' but you didnt hear me ',\n",
       "   ' who they are ',\n",
       "   ' but you dont know where they say im gonna make it ',\n",
       "   ' i know that i love you ',\n",
       "   ' i never want to do you know ',\n",
       "   ' how'],\n",
       "  ['if its all right ',\n",
       "   ' you want it to be the one to love you ',\n",
       "   ' but i dont need to live in your eyes ',\n",
       "   ' i know a little chance to come true ',\n",
       "   ' at the copa co copacabana ',\n",
       "   ' music and passion were always in fashion ',\n",
       "   ' at']],\n",
       " [['dear ',\n",
       "   ' but when im in the air that night ',\n",
       "   ' when you said goodbye ',\n",
       "   ' i remember the time we were ',\n",
       "   ' and you wont see me like the way i love you ',\n",
       "   ' the love that i knew ',\n",
       "   ' is the only one ',\n",
       "   ' and i want to'],\n",
       "  ['dear ',\n",
       "   ' i never want to go to you ',\n",
       "   ' i dont want to fade away ',\n",
       "   ' in every dream you like to be in a love ',\n",
       "   ' like a song the one to show ',\n",
       "   ' the one that i had ',\n",
       "   ' im a man youre everything i cant get']],\n",
       " [['',\n",
       "   ' i want to be with you ',\n",
       "   ' and i cant go on ',\n",
       "   ' i wanna be with you i need you ',\n",
       "   ' more than a dream and the world ',\n",
       "   ' could be a place on my own ',\n",
       "   ' i dont want to be with you be with you ',\n",
       "   ''],\n",
       "  ['',\n",
       "   ' and if i had to do the same to the very last ',\n",
       "   ' i want you now i know ',\n",
       "   ' i want to be your lucky ',\n",
       "   ' i want you to know ',\n",
       "   ' that ever i never want to get myself ',\n",
       "   ' i know i can say that i']],\n",
       " [['all the right ',\n",
       "   ' i want it a little baby ',\n",
       "   ' and i want to see that ',\n",
       "   ' i show the way of life ',\n",
       "   ' they got a good life ',\n",
       "   ' when the night the day ',\n",
       "   ' when the night is right ',\n",
       "   ' when i get home ',\n",
       "   ' when the'],\n",
       "  ['all the right ',\n",
       "   ' when i go a way ',\n",
       "   ' when the night show on the show ',\n",
       "   ' on a show ',\n",
       "   ' the hand of the way on ',\n",
       "   ' when the night the way the life that i wont last when hes come and go the way ',\n",
       "   ' on the']]]"
      ]
     },
     "execution_count": 20,
     "metadata": {},
     "output_type": "execute_result"
    }
   ],
   "source": [
    "reverse_word_map = [tokenizer.sequences_to_texts(song) for song in songs]\n",
    "reversed_sentences = []\n",
    "for i in range(len(input_words)):\n",
    "    reversed_sentences.append([x.split('eos') for x in reverse_word_map[i]])\n",
    "reversed_sentences"
   ]
  }
 ],
 "metadata": {
  "kernelspec": {
   "display_name": "Python 3",
   "language": "python",
   "name": "python3"
  },
  "language_info": {
   "codemirror_mode": {
    "name": "ipython",
    "version": 3
   },
   "file_extension": ".py",
   "mimetype": "text/x-python",
   "name": "python",
   "nbconvert_exporter": "python",
   "pygments_lexer": "ipython3",
   "version": "3.7.3"
  }
 },
 "nbformat": 4,
 "nbformat_minor": 2
}
